{
 "cells": [
  {
   "cell_type": "code",
   "execution_count": 10,
   "id": "2aaa6292",
   "metadata": {},
   "outputs": [],
   "source": [
    "a = ord(\"а\")\n",
    "liters = [chr(i) for i in range(a, a + 32)]\n",
    "a = ord(\"0\")\n",
    "for i in range(a, a+10):\n",
    "    liters.append(chr(i))\n",
    "\n",
    "a = ord(\"А\")\n",
    "for i in range(1040, 1072):\n",
    "    liters.append(chr(i))\n",
    "\n",
    "P1 = \"КодофаяФраза1\"\n",
    "P2 = \"Безопасность2\"\n",
    "\n",
    "def vzlom(P1, P2):\n",
    "    code = []\n",
    "    for i in range(len(P1)):\n",
    "        code.append(liters[(liters.index(P1[i]) + liters.index(P2[i])) % len(liters)])\n",
    "    print(code)\n",
    "    pr = \"\".join(code)\n",
    "    print(pr)"
   ]
  },
  {
   "cell_type": "code",
   "execution_count": 11,
   "id": "6316feda",
   "metadata": {},
   "outputs": [
    {
     "data": {
      "text/plain": [
       "13"
      ]
     },
     "execution_count": 11,
     "metadata": {},
     "output_type": "execute_result"
    }
   ],
   "source": [
    "len(P1)"
   ]
  },
  {
   "cell_type": "code",
   "execution_count": 12,
   "id": "ce386aec",
   "metadata": {},
   "outputs": [
    {
     "data": {
      "text/plain": [
       "13"
      ]
     },
     "execution_count": 12,
     "metadata": {},
     "output_type": "execute_result"
    }
   ],
   "source": [
    "len(P2)"
   ]
  },
  {
   "cell_type": "code",
   "execution_count": 13,
   "id": "7ce7ef03",
   "metadata": {},
   "outputs": [
    {
     "name": "stdout",
     "output_type": "stream",
     "text": [
      "['х', 'у', 'л', 'ь', '3', 'а', 'Ж', 'б', 'ю', 'с', 'щ', 'ь', 'Щ']\n",
      "хуль3аЖбюсщьЩ\n"
     ]
    }
   ],
   "source": [
    "vzlom(P1, P2)"
   ]
  },
  {
   "cell_type": "code",
   "execution_count": 23,
   "id": "da48d27f",
   "metadata": {},
   "outputs": [],
   "source": [
    "def shifr(P1, gamma):\n",
    "    dicts = {\"а\": 1, \"б\": 2, \"в\": 3, \"г\": 4, \"д\": 5, \"е\": 6, \"ё\": 7, \"ж\": 8, \"з\": 9, \"и\": 10, \"й\": 11, \"к\": 12, \"л\": 13,\n",
    "             \"м\": 14, \"н\": 15, \"о\": 16, \"п\": 17, \"р\": 18, \"с\": 19, \"т\": 20, \"у\": 21, \"ф\": 22, \"х\": 23, \"ц\": 24, \"ч\": 25, \n",
    "             \"ш\": 26, \"щ\": 27, \"ъ\": 28, \"ы\": 29, \"ь\": 30, \"э\": 31, \"ю\": 32, \"я\": 32, \"А\":33 , \"Б\": 34, \"В\": 35 , \"Г\":36, \n",
    "             \"Д\":37 , \"Е\":38 , \"Ё\":39 , \"Ж\":40 , \"З\":41, \"И\":42,\"Й\":43 , \"К\":44 , \"Л\":45 , \"М\":46 , \"Н\":47 , \"О\":48 , \n",
    "             \"П\":49 , \"Р\":50 , \"С\":51 , \"Т\":52 , \"У\":53 , \"Ф\":54 , \"Х\":55 , \"Ц\":56 , \"Ч\":57 , \"Ш\":58,\"Щ\":59 , \"Ъ\":60 , \n",
    "             \"Ы\":61 , \"Ь\":62 , \"Э\":63 , \"Ю\":64 , \"Я\":65 , \"1\":66 , \"2\":67 , \"3\":68 , \"4\":69 , \"5\":70 , \"6\":71 , \"7\": 72, \n",
    "             \"8\":73 , \"9\":74 , \"0\":75\n",
    "    }\n",
    "    \n",
    "    dicts2 = {v: k for k, v in dicts.items()}\n",
    "    text = P1\n",
    "    digits_text = []\n",
    "    digits_gamma = []\n",
    "\n",
    "    for i in text:\n",
    "        digits_text.append(dicts[i])\n",
    "    print(\"Числа текста \", digits_text)\n",
    "    \n",
    "    for i in gamma:\n",
    "        digits_gamma.append(dicts[i])\n",
    "    print(\"Числа гаммы \", digits_gamma)\n",
    "    \n",
    "    digits_result = []\n",
    "    ch = 0\n",
    "    for i in text:\n",
    "        try:\n",
    "            a = dicts[i] + digits_gamma[ch]\n",
    "        except:\n",
    "            ch = 0\n",
    "            a = dicts[i] + digits_gamma[ch]\n",
    "        if a > 75:\n",
    "            a = a%75\n",
    "            print(a)\n",
    "        ch += 1\n",
    "        digits_result.append(a)\n",
    "    print(\"Числа шифротекста \", digits_result)\n",
    "    \n",
    "    text_cr = \"\"\n",
    "    for i in digits_result:\n",
    "        text_cr += dicts2[i]\n",
    "    print(\"Шифротекст \", text_cr)\n",
    "    \n",
    "    digits = []\n",
    "    for i in text_cr:\n",
    "        digits.append(dicts[i])\n",
    "    ch = 0\n",
    "    digits1 = []\n",
    "    for i in digits:\n",
    "        try:\n",
    "            a = i - digits_gamma[ch]\n",
    "        except:\n",
    "            ch = 0\n",
    "            a = i - digits_gamma[ch]\n",
    "        if a < 1:\n",
    "            a = 75 + a\n",
    "        digits1.append(a)\n",
    "        ch += 1\n",
    "    \n",
    "    text_decr = \"\"\n",
    "    for i in digits1:\n",
    "        text_decr += dicts2[i]\n",
    "    print(\"Расшифрованный текст: \", text_decr)"
   ]
  },
  {
   "cell_type": "code",
   "execution_count": 24,
   "id": "68e4548d",
   "metadata": {},
   "outputs": [],
   "source": [
    "P1 = \"КодофаяФраза1\"\n",
    "gamma = \"хуль3аЖбюсщьЩ\""
   ]
  },
  {
   "cell_type": "code",
   "execution_count": 25,
   "id": "49f3b809",
   "metadata": {},
   "outputs": [
    {
     "name": "stdout",
     "output_type": "stream",
     "text": [
      "Числа текста  [44, 16, 5, 16, 22, 1, 32, 54, 18, 1, 9, 1, 66]\n",
      "Числа гаммы  [23, 21, 13, 30, 68, 1, 40, 2, 32, 19, 27, 30, 59]\n",
      "15\n",
      "50\n",
      "Числа шифротекста  [67, 37, 18, 46, 15, 2, 72, 56, 50, 20, 36, 31, 50]\n",
      "Шифротекст  2ДрМнб7ЦРтГэР\n",
      "Расшифрованный текст:  КодофаяФраза1\n"
     ]
    }
   ],
   "source": [
    "shifr(P1, gamma)"
   ]
  },
  {
   "cell_type": "code",
   "execution_count": null,
   "id": "ce8a2831",
   "metadata": {},
   "outputs": [],
   "source": []
  }
 ],
 "metadata": {
  "kernelspec": {
   "display_name": "Python 3 (ipykernel)",
   "language": "python",
   "name": "python3"
  },
  "language_info": {
   "codemirror_mode": {
    "name": "ipython",
    "version": 3
   },
   "file_extension": ".py",
   "mimetype": "text/x-python",
   "name": "python",
   "nbconvert_exporter": "python",
   "pygments_lexer": "ipython3",
   "version": "3.9.9"
  }
 },
 "nbformat": 4,
 "nbformat_minor": 5
}
