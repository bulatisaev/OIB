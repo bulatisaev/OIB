{
 "cells": [
  {
   "cell_type": "code",
   "execution_count": 7,
   "id": "54e8c99d",
   "metadata": {},
   "outputs": [],
   "source": [
    "def main(text, gamma):\n",
    "    dict = {\"а\" :1, \"б\" :2, \"в\" :3, \"г\" :4, \"д\" :5, \"е\" :6, \"ё\" :7, \"ж\": 8, \"з\": 9, \"и\": 10, \"й\": 11, \n",
    "            \"к\": 12, \"л\": 13,\"м\": 14, \"н\": 15, \"о\": 16, \"п\": 17, \"р\": 18, \"с\": 19, \"т\": 20, \"у\": 21, \"ф\": 22, \n",
    "            \"х\": 23, \"ц\": 24, \"ч\": 25, \"ш\": 26, \"щ\": 27, \"ъ\": 28, \"ы\": 29, \"ь\": 30, \"э\": 31, \"ю\": 32, \"я\": 33 }\n",
    "   \n",
    "    dict2 = {v: k for k, v in dict.items()}\n",
    "    digits_text = list()\n",
    "    digits_gamma = list()\n",
    "    \n",
    "    for i in text:\n",
    "        digits_text.append(dict[i])\n",
    "    print(\"Числа текста: \", digits_text)\n",
    "    \n",
    "    for i in gamma:\n",
    "        digits_gamma.append(dict[i])\n",
    "    print(\"Числа гаммы: \", digits_gamma)\n",
    "    \n",
    "    digits_res = list()\n",
    "    ch = 0\n",
    "    for i in text:\n",
    "        try:\n",
    "            a = dict[i] + digits_gamma[ch]\n",
    "        except:\n",
    "            ch = 0\n",
    "            a = dict[i] + digits_gamma[ch]\n",
    "        if a>=33:\n",
    "            a = a%33\n",
    "        ch += 1\n",
    "        digits_res.append(a)\n",
    "    print(\"Числа шифровки: \", digits_res)\n",
    "    \n",
    "    text_enc = \"\"\n",
    "    for i in digits_text:\n",
    "        text_enc += dict2[i]\n",
    "    print(\"Расшифровка: \", text_enc)\n",
    "    \n",
    "    digits = list()\n",
    "    for i in text_enc:\n",
    "        digits.append(dict[i])\n",
    "    ch = 0\n",
    "    digits1 = list()\n",
    "    for i in digits:\n",
    "        a = i - digits_gamma[ch]\n",
    "        if a < 1:\n",
    "            a = 33 + a\n",
    "        digits1.append(a)\n",
    "        ch += 1\n",
    "    text_dec = \"\"\n",
    "    for i in digits1:\n",
    "        text_dec += dict2[i]\n",
    "    print(\"шифровка: \", text_dec)"
   ]
  },
  {
   "cell_type": "code",
   "execution_count": 8,
   "id": "52a788f5",
   "metadata": {},
   "outputs": [
    {
     "data": {
      "text/plain": [
       "10"
      ]
     },
     "execution_count": 8,
     "metadata": {},
     "output_type": "execute_result"
    }
   ],
   "source": [
    "text = \"ялюблюрудн\"\n",
    "len(text)"
   ]
  },
  {
   "cell_type": "code",
   "execution_count": 9,
   "id": "853189f0",
   "metadata": {},
   "outputs": [
    {
     "data": {
      "text/plain": [
       "10"
      ]
     },
     "execution_count": 9,
     "metadata": {},
     "output_type": "execute_result"
    }
   ],
   "source": [
    "gamma = \"физматфизм\"\n",
    "len(gamma)"
   ]
  },
  {
   "cell_type": "code",
   "execution_count": 10,
   "id": "18b95a78",
   "metadata": {},
   "outputs": [
    {
     "name": "stdout",
     "output_type": "stream",
     "text": [
      "Числа текста:  [33, 13, 32, 2, 13, 32, 18, 21, 5, 15]\n",
      "Числа гаммы:  [22, 10, 9, 14, 1, 20, 22, 10, 9, 14]\n",
      "Числа шифровки:  [22, 23, 8, 16, 14, 19, 7, 31, 14, 29]\n",
      "Расшифровка:  ялюблюрудн\n",
      "шифровка:  йвхуккыйыа\n"
     ]
    }
   ],
   "source": [
    "main(text, gamma)"
   ]
  },
  {
   "cell_type": "code",
   "execution_count": null,
   "id": "46670e27",
   "metadata": {},
   "outputs": [],
   "source": []
  }
 ],
 "metadata": {
  "kernelspec": {
   "display_name": "Python 3 (ipykernel)",
   "language": "python",
   "name": "python3"
  },
  "language_info": {
   "codemirror_mode": {
    "name": "ipython",
    "version": 3
   },
   "file_extension": ".py",
   "mimetype": "text/x-python",
   "name": "python",
   "nbconvert_exporter": "python",
   "pygments_lexer": "ipython3",
   "version": "3.9.9"
  }
 },
 "nbformat": 4,
 "nbformat_minor": 5
}
